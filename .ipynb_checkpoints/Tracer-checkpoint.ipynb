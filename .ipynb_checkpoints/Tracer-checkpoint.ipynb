{
 "cells": [
  {
   "cell_type": "code",
   "execution_count": 10,
   "id": "ddd3ec24",
   "metadata": {},
   "outputs": [
    {
     "name": "stdout",
     "output_type": "stream",
     "text": [
      "python: 3.8.12 | packaged by conda-forge | (default, Oct 12 2021, 21:50:56) \n",
      "[Clang 11.1.0 ]\n",
      "opencv: 4.5.3\n",
      "pytesseract:  \n",
      "\n",
      " \n",
      "\n"
     ]
    }
   ],
   "source": [
    "# OpenCV 및 OCR모듈 설치 유무 확인\n",
    "import sys\n",
    "import cv2\n",
    "import pytesseract\n",
    "from PIL import Image\n",
    "\n",
    "print(\"python:\", sys.version)\n",
    "print(\"opencv:\", cv2.__version__)\n",
    "print(\"pytesseract:\", pytesseract.image_to_string(Image.open('images/01.png')))"
   ]
  },
  {
   "cell_type": "code",
   "execution_count": 11,
   "id": "ec912de9",
   "metadata": {},
   "outputs": [],
   "source": [
    "# OpenCV - 이미지 읽기, 쓰기 및 표시하기 (1)\n",
    "import cv2\n",
    "def handle_image():\n",
    "    imagefile = \"images/00_XXO.png\"\n",
    "    img = cv2. imread(imagefile, cv2.IMREAD_COLOR)\n",
    "    \n",
    "    cv2.imshow('image', img)\n",
    "    cv2.waitKey(0)\n",
    "    cv2.destroyAllWindows()\n",
    "    cv2.waitKey(1)\n",
    "    \n",
    "if __name__ == '__main__' :\n",
    "    handle_image()"
   ]
  },
  {
   "cell_type": "code",
   "execution_count": 12,
   "id": "33ef793e",
   "metadata": {},
   "outputs": [],
   "source": [
    "# OpenCV - 이미지 읽기, 쓰기 및 표시하기 (2)\n",
    "\n",
    "import cv2\n",
    "\n",
    "def handle_image():\n",
    "    imgfile = 'images/00_XXO.png'\n",
    "    img = cv2.imread(imgfile, cv2.IMREAD_GRAYSCALE)\n",
    "    \n",
    "    cv2.namedWindow('image', cv2.WINDOW_NORMAL)\n",
    "    cv2.imshow('image', img)\n",
    "    k = cv2.waitKey(0)\n",
    "    # wait for ESC key to exit\n",
    "    if k == 27:\n",
    "        cv2.destroyAllWindows()\n",
    "        cv2.waitKey(1)\n",
    "    # wait for 's' key to save and exit\n",
    "    elif k == ord('s'):\n",
    "        cv2.imwrite('images/00_XXO.png', img)\n",
    "        cv2.destroyAllWindows()\n",
    "        cv2.waitKey(1)\n",
    "        \n",
    "if __name__ == '__main__':\n",
    "    handle_image()"
   ]
  },
  {
   "cell_type": "code",
   "execution_count": 17,
   "id": "03b52e80",
   "metadata": {},
   "outputs": [],
   "source": [
    "# OpenCV - 도형 외곽 추출하기 (1)\n",
    "\n",
    "import cv2\n",
    "\n",
    "def contour():\n",
    "    imgfile = 'images/00_XXO.png'\n",
    "    img = cv2.imread(imgfile)\n",
    "    imgray = cv2.cvtColor(img, cv2.COLOR_BGR2GRAY)\n",
    "    \n",
    "    edge = cv2.Canny(imgray, 100, 300)\n",
    "    contours, hierarchy = cv2.findContours(edge, cv2.RETR_TREE, cv2.CHAIN_APPROX_SIMPLE)\n",
    "    \n",
    "    cv2.imshow('edge', edge)\n",
    "    cv2.drawContours(img, contours, -1, (0, 255, 0), 1)\n",
    "    cv2.imshow('Contour', img)\n",
    "    \n",
    "    cv2.waitKey(0)\n",
    "    cv2.destroyAllWindows()\n",
    "    cv2.waitKey(1)\n",
    "\n",
    "if __name__ == '__main__':\n",
    "    contour() "
   ]
  },
  {
   "cell_type": "code",
   "execution_count": 19,
   "id": "d287f342",
   "metadata": {},
   "outputs": [],
   "source": [
    "# OpenCV - 도형 외곽 추출하기 - 가우시안 블러 적용(2)\n",
    "\n",
    "import cv2\n",
    "\n",
    "def contour():\n",
    "    imgfile = 'images/00_XXO.png'\n",
    "    img = cv2.imread(imgfile)\n",
    "    imgray = cv2.cvtColor(img, cv2.COLOR_BGR2GRAY)\n",
    "    \n",
    "    #blur = cv2.GaussianBlur(imgray, ksize=(3,3), sigmaX=0)\n",
    "    #ret, thresh1 = cv2.threshold(blur, 127, 255, cv2.THRESH_BINARY)\n",
    "    \n",
    "    edge = cv2.Canny(imgray, 100, 300)\n",
    "    contours, hierarchy = cv2.findContours(edge, cv2.RETR_TREE, cv2.CHAIN_APPROX_SIMPLE)\n",
    "    \n",
    "    cv2.imshow('edge', edge)\n",
    "    cv2.drawContours(img, contours, -1, (0, 255, 0), 1)\n",
    "    #cv2.imshow('Contour', img)\n",
    "    \n",
    "    cv2.waitKey(0)\n",
    "    cv2.destroyAllWindows()\n",
    "    cv2.waitKey(1)\n",
    "\n",
    "if __name__ == '__main__':\n",
    "    contour() "
   ]
  },
  {
   "cell_type": "code",
   "execution_count": 81,
   "id": "9a7bcca1",
   "metadata": {},
   "outputs": [
    {
     "name": "stdout",
     "output_type": "stream",
     "text": [
      "82\n",
      "1.1081081081081081\n",
      "376\n",
      "104\n",
      "[221 161 161]\n",
      "[211  34  34]\n",
      "[255   0  79]\n"
     ]
    },
    {
     "data": {
      "image/png": "[encoded data removed]",
      "text/plain": [
       "<Figure size 432x288 with 1 Axes>"
      ]
     },
     "metadata": {
      "needs_background": "light"
     },
     "output_type": "display_data"
    }
   ],
   "source": [
    "import cv2\n",
    "import pyzbar.pyzbar as pyzbar\n",
    "import matplotlib.pyplot as plt\n",
    "\n",
    "\n",
    "def main():\n",
    "    imgfile = 'images/sample_01.png'\n",
    "    img = cv2.imread(imgfile)\n",
    "    imgGray = cv2.cvtColor(img, cv2.COLOR_BGR2GRAY)\n",
    "    imgRGV = cv2.cvtColor(img, cv2.COLOR_BGR2RGB)\n",
    "    \n",
    "    pointX=0\n",
    "    pointY=0\n",
    "    baseLine=0\n",
    "    \n",
    "    scaleValue = 1\n",
    "    splitValue = 1\n",
    "    baseValue = 74\n",
    "    baseSpace = 250\n",
    "    baseSplit = 60\n",
    "    \n",
    "    \n",
    "    plt.imshow(imgRGV)\n",
    "    \n",
    "    decoded = pyzbar.decode(imgGray)\n",
    "#     print(decoded)\n",
    "    \n",
    "    for d in decoded:\n",
    "#         print(d.data.decode('utf-8'))\n",
    "        pointX = d.rect[0]\n",
    "        pointY = d.rect[1]\n",
    "        baseLine = d.rect[2]\n",
    "    \n",
    "    print(baseLine)\n",
    "    scaleValue = baseLine/baseValue\n",
    "    print(scaleValue)\n",
    "    splitValue = (int)(baseSplit*scaleValue)\n",
    "    pointX = pointX + (int)(baseSpace*scaleValue)\n",
    "    pointY = pointY + (int)(baseLine/2)\n",
    "    \n",
    "    print(pointX)\n",
    "    print(pointY)\n",
    "    print(imgRGV[pointY,pointX])\n",
    "    print(imgRGV[pointY,pointX+splitValue])\n",
    "    print(imgRGV[pointY,pointX+2*splitValue])\n",
    "    \n",
    "    \n",
    "if __name__ == '__main__':\n",
    "    main()"
   ]
  },
  {
   "cell_type": "code",
   "execution_count": 82,
   "id": "2fffeccc",
   "metadata": {},
   "outputs": [
    {
     "name": "stdout",
     "output_type": "stream",
     "text": [
      "82\n",
      "1.1081081081081081\n",
      "376\n",
      "104\n",
      "[  0  69 221]\n"
     ]
    },
    {
     "data": {
      "image/png": "[encoded data removed]",
      "text/plain": [
       "<Figure size 432x288 with 1 Axes>"
      ]
     },
     "metadata": {
      "needs_background": "light"
     },
     "output_type": "display_data"
    }
   ],
   "source": [
    "import cv2\n",
    "import pyzbar.pyzbar as pyzbar\n",
    "import matplotlib.pyplot as plt\n",
    "\n",
    "\n",
    "def main():\n",
    "    imgfile = 'images/sample_01.png'\n",
    "    img = cv2.imread(imgfile)\n",
    "    imgGray = cv2.cvtColor(img, cv2.COLOR_BGR2GRAY)\n",
    "    imgHSV = cv2.cvtColor(img, cv2.COLOR_BGR2HSV)\n",
    "    imgRGV = cv2.cvtColor(img, cv2.COLOR_BGR2RGB)\n",
    "    \n",
    "    pointX=0\n",
    "    pointY=0\n",
    "    baseLine=0\n",
    "    \n",
    "    scaleValue = 1\n",
    "    splitValue = 1\n",
    "    baseValue = 74\n",
    "    baseSpace = 250\n",
    "    baseSplit = 60\n",
    "    \n",
    "    \n",
    "    plt.imshow(imgRGV)\n",
    "    \n",
    "    decoded = pyzbar.decode(imgGray)\n",
    "#     print(decoded)\n",
    "    \n",
    "    for d in decoded:\n",
    "#         print(d.data.decode('utf-8'))\n",
    "        pointX = d.rect[0]\n",
    "        pointY = d.rect[1]\n",
    "        baseLine = d.rect[2]\n",
    "    \n",
    "    print(baseLine)\n",
    "    scaleValue = baseLine/baseValue\n",
    "    print(scaleValue)\n",
    "    splitValue = (int)(baseSplit*scaleValue)\n",
    "    pointX = pointX + (int)(baseSpace*scaleValue)\n",
    "    pointY = pointY + (int)(baseLine/2)\n",
    "    \n",
    "    print(pointX)\n",
    "    print(pointY)\n",
    "    print(imgHSV[pointY,pointX])\n",
    "    print(imgHSV[pointY,pointX+splitValue])\n",
    "    print(imgHSV[pointY,pointX+2*splitValue])\n",
    "    \n",
    "    \n",
    "if __name__ == '__main__':\n",
    "    main()"
   ]
  }
 ],
 "metadata": {
  "kernelspec": {
   "display_name": "Python [conda env:openCvEnvTest]",
   "language": "python",
   "name": "conda-env-openCvEnvTest-py"
  },
  "language_info": {
   "codemirror_mode": {
    "name": "ipython",
    "version": 3
   },
   "file_extension": ".py",
   "mimetype": "text/x-python",
   "name": "python",
   "nbconvert_exporter": "python",
   "pygments_lexer": "ipython3",
   "version": "3.8.12"
  }
 },
 "nbformat": 4,
 "nbformat_minor": 5
}
